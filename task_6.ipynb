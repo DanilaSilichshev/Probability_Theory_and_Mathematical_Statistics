{
 "cells": [
  {
   "cell_type": "markdown",
   "metadata": {},
   "source": [
    "<h1 align=\"center\">Урок 6. Взаимосвязь величин. Параметрические и непараметрические показатели корреляции. Корреляционный анализ.</h1>"
   ]
  },
  {
   "cell_type": "code",
   "execution_count": 1,
   "metadata": {},
   "outputs": [],
   "source": [
    "import numpy as np"
   ]
  },
  {
   "cell_type": "markdown",
   "metadata": {},
   "source": [
    "1. Даны значения величины заработной платы заемщиков банка (zp) и значения их поведенческого кредитного скоринга (ks): <br />\n",
    "zp = [35, 45, 190, 200, 40, 70, 54, 150, 120, 110],<br />\n",
    "ks = [401, 574, 874, 919, 459, 739, 653, 902, 746, 832].<br />\n",
    "Найдите ковариацию этих двух величин с помощью элементарных действий, а затем с помощью функции cov из numpy.<br />\n",
    "Полученные значения должны быть равны.<br />\n",
    "Найдите коэффициент корреляции Пирсона с помощью ковариации и среднеквадратичных отклонений двух признаков,\n",
    "а затем с использованием функций из библиотек numpy и pandas."
   ]
  },
  {
   "cell_type": "code",
   "execution_count": 2,
   "metadata": {},
   "outputs": [],
   "source": [
    "zp = np.array([35, 45, 190, 200, 40, 70, 54, 150, 120, 110])\n",
    "ks = np.array([401, 574, 874, 919, 459, 739, 653, 902, 746, 832])"
   ]
  },
  {
   "cell_type": "markdown",
   "metadata": {},
   "source": [
    "$$ cov_{xy} = M(XY)-M(X)*M(Y) = \\frac{\\displaystyle\\sum_{i=1}^{n}x_iy_i}{n} - \\frac{\\displaystyle\\sum_{i=1}^{n}x_i * \\displaystyle\\sum_{i=1}^{n}y_i}{n^2}$$\n",
    "\n",
    "$ \\displaystyle\\sum_{i=1}^{n}x_iy_i = 35*401+45*574+190*874+200*919+40*459+70*739+54*653+150*902+120*746+110*832 = 811417$\n",
    "\n",
    "$ \\displaystyle\\sum_{i=1}^{n}x_i = 35+45+190+200+40+70+54+150+120+110 = 1014$\n",
    "\n",
    "$ \\displaystyle\\sum_{i=1}^{n}y_i = 401+574+874+919+459+739+653+902+746+832 = 7099$\n",
    "\n",
    "$ Подставим\\ все\\ промежуточные\\ значения\\ в\\ исходную\\ формулу\\ для\\ нахождения\\ ковариации: $\n",
    "\n",
    "$ cov_{xy} = \\frac{811417}{10} - \\frac{1014*7099}{100} = 81141.7 - 71983.86 = 9157.84$"
   ]
  },
  {
   "cell_type": "code",
   "execution_count": 3,
   "metadata": {},
   "outputs": [
    {
     "name": "stdout",
     "output_type": "stream",
     "text": [
      "Смещённая оценка ковариации: 9157.84,\n",
      "несмещённая оценка ковариации: 10175.38\n"
     ]
    }
   ],
   "source": [
    "print(f\"Смещённая оценка ковариации: {np.cov(zp, ks, ddof=0)[0, 1]},\\n\"\n",
    "      f\"несмещённая оценка ковариации: {round(np.cov(zp, ks, ddof=1)[0, 1], 2)}\")"
   ]
  },
  {
   "cell_type": "markdown",
   "metadata": {},
   "source": [
    "$$ r_{xy} = \\frac{cov_{xy}}{\\sigma_x * \\sigma_y} $$\n",
    "\n",
    "$$ \\sigma_x = \\sqrt\\frac{\\displaystyle\\sum_{i=1}^{n}(x_i-\\overline{x})^2}{n-1},\\ \\sigma_y = \\sqrt\\frac{\\displaystyle\\sum_{i=1}^{n}(y_i-\\overline{y})^2}{n-1} $$"
   ]
  },
  {
   "cell_type": "code",
   "execution_count": 4,
   "metadata": {},
   "outputs": [],
   "source": [
    "def calculate_sd(data):\n",
    "     return np.sqrt(np.sum((data-np.mean(data))**2)/(len(data)-1))"
   ]
  },
  {
   "cell_type": "code",
   "execution_count": 5,
   "metadata": {},
   "outputs": [
    {
     "data": {
      "text/plain": [
       "(62.31318747531162, 183.99544076477068)"
      ]
     },
     "execution_count": 5,
     "metadata": {},
     "output_type": "execute_result"
    }
   ],
   "source": [
    "sd_x, sd_y = calculate_sd(zp), calculate_sd(ks)\n",
    "sd_x, sd_y"
   ]
  },
  {
   "cell_type": "markdown",
   "metadata": {},
   "source": [
    "$ r_{xy} \\approx \\frac{10175.38}{62.31*184.0} \\approx 0.887$"
   ]
  },
  {
   "cell_type": "code",
   "execution_count": 6,
   "metadata": {},
   "outputs": [
    {
     "name": "stdout",
     "output_type": "stream",
     "text": [
      "Коэффициент корреляции Пирсона: 0.887\n"
     ]
    }
   ],
   "source": [
    "print(f\"Коэффициент корреляции Пирсона: {round(np.corrcoef(zp, ks)[0, 1], 3)}\")"
   ]
  },
  {
   "cell_type": "markdown",
   "metadata": {},
   "source": [
    "2. Измерены значения IQ выборки студентов,\n",
    "обучающихся в местных технических вузах:\n",
    "131, 125, 115, 122, 131, 115, 107, 99, 125, 111.<br />\n",
    "Известно, что в генеральной совокупности IQ распределен нормально.<br />\n",
    "Найдите доверительный интервал для математического ожидания с надежностью 0.95"
   ]
  },
  {
   "cell_type": "markdown",
   "metadata": {},
   "source": [
    "$ Рассчитаем\\ мат.\\ ожидание\\ и\\ стандартное\\ отклонение\\ выборки:$\n",
    "\n",
    "$$ \\overline{x} = \\frac{\\displaystyle\\sum_{i=1}^{n}x_i}{n} = \\frac{131+125+115+122+131+115+107+99+125+111}{10}=\\frac{1181}{10}=118.1  $$\n",
    "\n",
    "$ Размер\\ выборки\\ очень\\ мал,\\ поэтому\\ используем\\ несмещённую\\ оценку\\ для\\ стандартного\\ отклонения:$\n",
    "\n",
    "$$ \\displaystyle\\sum_{i=1}^{n}(x_i-\\overline{x})^2 = (131-118.1)^2+(125-118.1)^2+(115-118.1)^2+(122-118.1)^2+(131-118.1)^2+(115-118.1)^2+(107-118.1)^2+(99-118.1)^2+(125-118.1)^2+(111-118.1)^2 = 1000.9$$ \n",
    "\n",
    "$$ sd=\\sqrt\\frac{\\displaystyle\\sum_{i=1}^{n}(x_i-\\overline{x})^2}{n-1} = \\sqrt\\frac{1000.9}{10-1} \\approx 10.55$$\n",
    "\n",
    "$ В\\ данном\\ случае\\ применяем\\ t-критерий\\ (дисперсия\\ генеральной\\ совокупности\\ неизвестна):$\n",
    "\n",
    "$$ \\overline{x} \\pm t_{\\frac{\\alpha}{2}}\\frac{sd}{\\sqrt{n}} = \\frac{\\displaystyle\\sum_{i=1}^{n}x_i}{n} \\pm t_{\\frac{\\alpha}{2}}\\frac{\\sqrt\\frac{\\displaystyle\\sum_{i=1}^{n}(x_i-\\overline{x})^2}{n-1}}{\\sqrt{n}} = 118.1 \\pm 2.262*\\frac{10.55}{\\sqrt{10}} = 118.1 \\pm 7.547$$"
   ]
  },
  {
   "cell_type": "markdown",
   "metadata": {},
   "source": [
    "3. Известно, что рост футболистов в сборной распределен нормально\n",
    "с дисперсией генеральной совокупности, равной 25 кв.см. Объем выборки равен 27,\n",
    "среднее выборочное составляет 174.2. Найдите доверительный интервал для математического\n",
    "ожидания с надежностью 0.95."
   ]
  },
  {
   "cell_type": "code",
   "execution_count": 7,
   "metadata": {},
   "outputs": [],
   "source": [
    "sd = np.sqrt(25)\n",
    "x_mean = 174.2\n",
    "alpha = 0.05\n",
    "n = 27"
   ]
  },
  {
   "cell_type": "code",
   "execution_count": 8,
   "metadata": {},
   "outputs": [
    {
     "name": "stdout",
     "output_type": "stream",
     "text": [
      "Нижняя граница доверительного интервала: 172.31398912064722, верхняя: 176.08601087935276\n"
     ]
    }
   ],
   "source": [
    "z = 1.96\n",
    "print(f\"Нижняя граница доверительного интервала: {x_mean - z * sd / np.sqrt(27)}, верхняя: {x_mean + z * sd / np.sqrt(27)}\")"
   ]
  }
 ],
 "metadata": {
  "kernelspec": {
   "display_name": "Python 3",
   "language": "python",
   "name": "python3"
  },
  "language_info": {
   "codemirror_mode": {
    "name": "ipython",
    "version": 3
   },
   "file_extension": ".py",
   "mimetype": "text/x-python",
   "name": "python",
   "nbconvert_exporter": "python",
   "pygments_lexer": "ipython3",
   "version": "3.7.4"
  }
 },
 "nbformat": 4,
 "nbformat_minor": 2
}
