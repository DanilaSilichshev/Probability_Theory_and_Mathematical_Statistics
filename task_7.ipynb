{
 "cells": [
  {
   "cell_type": "markdown",
   "metadata": {},
   "source": [
    "<h1 align=\"center\">Урок 7. Многомерный статистический анализ. Линейная регрессия.</h1>"
   ]
  },
  {
   "cell_type": "code",
   "execution_count": 1,
   "metadata": {},
   "outputs": [],
   "source": [
    "import numpy as np\n",
    "import matplotlib.pyplot as plt\n",
    "%matplotlib inline"
   ]
  },
  {
   "cell_type": "markdown",
   "metadata": {},
   "source": [
    "1. Даны значения величины заработной платы заемщиков банка (zp) и значения их поведенческого кредитного скоринга (ks):<br /> zp = [35, 45, 190, 200, 40, 70, 54, 150, 120, 110],<br />\n",
    "ks = [401, 574, 874, 919, 459, 739, 653, 902, 746, 832].\n",
    "<br />Используя математические операции, посчитать коэффициенты линейной регрессии, приняв за X заработную плату (то есть, zp - признак),<br />\n",
    "а за y - значения скорингового балла (то есть, ks - целевая переменная).<br />\n",
    "Произвести расчет как с использованием intercept, так и без."
   ]
  },
  {
   "cell_type": "markdown",
   "metadata": {},
   "source": [
    "$ Уравнение\\ парной\\ линейной\\ регрессии:$\n",
    "\n",
    "$$ \\hat{y} = w_0+w_1x $$\n",
    "\n",
    "$ Формулы\\ расчёта\\ коэффициентов\\ w_0\\ и\\ w_1 :$ \n",
    "\n",
    "$$  w_1 = \\frac{n\\displaystyle\\sum_{i=1}^{n}x_iy_i - \\displaystyle\\sum_{i=1}^{n}x_i * \\displaystyle\\sum_{i=1}^{n}y_i}{n\\displaystyle\\sum_{i=1}^{n}x_i^2 - \\left(\\displaystyle\\sum_{i=1}^{n}x_i\\right)^2}$$\n",
    "\n",
    "$$ w_0 = \\overline{y} - w_1\\overline{x}$$"
   ]
  },
  {
   "cell_type": "code",
   "execution_count": 2,
   "metadata": {},
   "outputs": [],
   "source": [
    "zp = np.array([35, 45, 190, 200, 40, 70, 54, 150, 120, 110])\n",
    "ks = np.array([401, 574, 874, 919, 459, 739, 653, 902, 746, 832])"
   ]
  },
  {
   "cell_type": "markdown",
   "metadata": {},
   "source": [
    "$ 1.1\\ Расчет\\ с\\ использованием\\ intercept:$"
   ]
  },
  {
   "cell_type": "code",
   "execution_count": 3,
   "metadata": {},
   "outputs": [
    {
     "name": "stdout",
     "output_type": "stream",
     "text": [
      "intercept: 444.17735732435955, slope: 2.6205388824027653\n",
      "Уравнение парной линейной регрессии c intercept: y = 444.17735732435955 + 2.6205388824027653x\n"
     ]
    }
   ],
   "source": [
    "w_1 = (len(zp)*np.sum(zp * ks) - np.sum(zp) * np.sum(ks)) / (len(zp)*np.sum(zp**2) - np.sum(zp) ** 2)\n",
    "w_0 = np.mean(ks) - w_1*np.mean(zp)\n",
    "print(f\"intercept: {w_0}, slope: {w_1}\\nУравнение парной линейной регрессии c intercept: y = {w_0} + {w_1}x\")"
   ]
  },
  {
   "cell_type": "markdown",
   "metadata": {},
   "source": [
    "$ 1.2\\ Расчет\\ без\\ использования\\ intercept:$"
   ]
  },
  {
   "cell_type": "code",
   "execution_count": 4,
   "metadata": {},
   "outputs": [
    {
     "name": "stdout",
     "output_type": "stream",
     "text": [
      "slope: 7.000986193293885\n",
      "Уравнение парной линейной регрессии без intercept: y = 7.000986193293885x\n"
     ]
    }
   ],
   "source": [
    "W_1 = np.mean(ks) / np.mean(zp)\n",
    "print(f\"slope: {W_1}\\nУравнение парной линейной регрессии без intercept: y = {W_1}x\")"
   ]
  },
  {
   "cell_type": "markdown",
   "metadata": {},
   "source": [
    "$ 1.3\\ Визуализация\\ линейной\\ регрессии:$"
   ]
  },
  {
   "cell_type": "code",
   "execution_count": 5,
   "metadata": {},
   "outputs": [
    {
     "data": {
      "text/plain": [
       "Text(0, 0.5, 'ks')"
      ]
     },
     "execution_count": 5,
     "metadata": {},
     "output_type": "execute_result"
    },
    {
     "data": {
      "image/png": "[encoded data removed]",
      "text/plain": [
       "<Figure size 432x288 with 1 Axes>"
      ]
     },
     "metadata": {
      "needs_background": "light"
     },
     "output_type": "display_data"
    }
   ],
   "source": [
    "plt.scatter(zp, ks, color=\"#545454\", label=\"data\")\n",
    "plt.plot(zp, w_0 + w_1*zp, label=\"ks=w_0+w_1*zp\")\n",
    "plt.plot(zp, W_1*zp, label=\"ks=w_1*zp\")\n",
    "plt.legend()\n",
    "plt.xlabel(\"zp\")\n",
    "plt.ylabel(\"ks\")"
   ]
  },
  {
   "cell_type": "markdown",
   "metadata": {},
   "source": [
    "2. Посчитать коэффициент линейной регрессии при заработной плате (zp), используя градиентный спуск (без intercept)."
   ]
  },
  {
   "cell_type": "code",
   "execution_count": 6,
   "metadata": {},
   "outputs": [],
   "source": [
    "x, y = zp, ks"
   ]
  },
  {
   "cell_type": "markdown",
   "metadata": {},
   "source": [
    "$ Метод\\ градиентного\\ спуска\\ используется\\ для\\ минимизации\\ функции\\ потерь,\\ в\\ данном\\ случае-среднеквадратической\\ ошибки.$ \n",
    "$ Представим\\ её\\ производную\\ в\\ общем\\ виде:$\n",
    "\n",
    "$$ mse = \\frac{\\displaystyle\\sum_{i=1}^{n}(y_i-\\hat{y})^2}{n}$$ \n",
    "\n",
    "$$ (mse)' = \\left(\\frac{\\displaystyle\\sum_{i=1}^{n}(y_i-\\hat{y})^2}{n}\\right)'=\\frac{\\displaystyle\\sum_{i=1}^{n}2*(y_i-\\hat{y})'*(y_i-\\hat{y})}{n}$$ \n",
    "\n",
    "$ Найдем\\ производную\\ mse\\ по\\ переменной\\ w_1\\ без\\ учёта\\ intercept:$\n",
    "\n",
    "$$ (mse)'_{w_1} = \\frac{\\displaystyle\\sum_{i=1}^{n}2*(y_i-\\hat{y})'_{w_1}*(y_i-\\hat{y})}{n}=\\frac{\\displaystyle\\sum_{i=1}^{n}2*(y_i-w_1x)'_{w_1}*(y_i-w_1x)}{n}=\\frac{\\displaystyle\\sum_{i=1}^{n}-2x*(y_i-w_1x)}{n}$$ "
   ]
  },
  {
   "cell_type": "code",
   "execution_count": 7,
   "metadata": {},
   "outputs": [
    {
     "name": "stdout",
     "output_type": "stream",
     "text": [
      "y = 5.8897853464590435x\n",
      "Коэффициент найден за 430 итераций, с точностью 1e-06\n"
     ]
    }
   ],
   "source": [
    "w_1 = 0.1\n",
    "alpha = 1e-6\n",
    "epsilon = 1\n",
    "n = len(zp)\n",
    "i = 0\n",
    "\n",
    "while alpha < abs(epsilon):\n",
    "    w_prev = w_1\n",
    "    w_1 -= alpha * np.mean(-2*x * (y-w_1*x))\n",
    "    epsilon = w_prev - w_1\n",
    "    i += 1\n",
    "\n",
    "print(f\"y = {w_1}x\\nКоэффициент найден за {i} итераций, с точностью {alpha}\")"
   ]
  },
  {
   "cell_type": "markdown",
   "metadata": {},
   "source": [
    "3*. Произвести вычисления как в пункте 2, но с вычислением intercept. Учесть, что изменение коэффициентов должно производиться\n",
    "на каждом шаге одновременно (то есть изменение одного коэффициента не должно влиять на изменение другого во время одной итерации)."
   ]
  },
  {
   "cell_type": "markdown",
   "metadata": {},
   "source": [
    "$ Определим\\ частную\\ производную\\ mse\\ по\\ переменной\\ w_0\\ с\\ учётом\\ intercept:$\n",
    "\n",
    "$$ (mse)'_{w_0} = \\frac{\\displaystyle\\sum_{i=1}^{n}2*(y_i-\\hat{y})'_{w_0}*(y_i-\\hat{y})}{n}=\\frac{\\displaystyle\\sum_{i=1}^{n}2*(y_i-w_0-w_1x)'_{w_0}*(y_i-w_0-w_1x)}{n}=\\frac{\\displaystyle\\sum_{i=1}^{n}-2*(y_i-w_0-w_1x)}{n}$$ \n",
    "\n",
    "$ Выразим\\ частную\\ производную\\ mse\\ по\\ переменной\\ w_1\\ с\\ учётом\\ intercept:$\n",
    "\n",
    "$$ (mse)'_{w_1} = \\frac{\\displaystyle\\sum_{i=1}^{n}2*(y_i-\\hat{y})'_{w_1}*(y_i-\\hat{y})}{n}=\\frac{\\displaystyle\\sum_{i=1}^{n}2*(y_i-w_0-w_1x)'_{w_1}*(y_i-w_0-w_1x)}{n}=\\frac{\\displaystyle\\sum_{i=1}^{n}-2x*(y_i-w_0-w_1x)}{n}$$ "
   ]
  },
  {
   "cell_type": "code",
   "execution_count": 8,
   "metadata": {},
   "outputs": [
    {
     "name": "stdout",
     "output_type": "stream",
     "text": [
      "y = 442.2061510108447 + 2.6350478250305724x\n",
      "Коэффициенты найдены за 179094 итераций, с точностью 1e-06.\n"
     ]
    }
   ],
   "source": [
    "w_0 = 442\n",
    "w_1 = 0.1\n",
    "alpha = 1e-6\n",
    "epsilon_0 = 1\n",
    "epsilon_1 = 1\n",
    "n = len(zp)\n",
    "i = 0\n",
    "\n",
    "while abs(epsilon_0) > alpha or abs(epsilon_1) > alpha:\n",
    "    w0_prev = w_0\n",
    "    w1_prev = w_1\n",
    "    w_0 -= alpha * np.mean(-2 * (y-w_0-w_1*x))\n",
    "    w_1 -= alpha * np.mean(-2*x * (y-w_0-w_1*x))\n",
    "    epsilon_0 = w0_prev - w_0\n",
    "    epsilon_1 = w1_prev - w_1\n",
    "    i += 1\n",
    "\n",
    "print(f\"y = {w_0} + {w_1}x\\nКоэффициенты найдены за {i} итераций, с точностью {alpha}.\")"
   ]
  }
 ],
 "metadata": {
  "kernelspec": {
   "display_name": "Python 3",
   "language": "python",
   "name": "python3"
  },
  "language_info": {
   "codemirror_mode": {
    "name": "ipython",
    "version": 3
   },
   "file_extension": ".py",
   "mimetype": "text/x-python",
   "name": "python",
   "nbconvert_exporter": "python",
   "pygments_lexer": "ipython3",
   "version": "3.7.4"
  }
 },
 "nbformat": 4,
 "nbformat_minor": 2
}
