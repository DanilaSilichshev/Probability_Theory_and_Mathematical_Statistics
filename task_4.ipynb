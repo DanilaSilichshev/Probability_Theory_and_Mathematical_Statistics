{
 "cells": [
  {
   "cell_type": "markdown",
   "metadata": {},
   "source": [
    "<h1 align=\"center\">Урок 4. Непрерывные случайные величины. Функция распределения и плотность распределения вероятностей. Равномерное и нормальное распределение. Центральная предельная теорема</h1>"
   ]
  },
  {
   "cell_type": "code",
   "execution_count": 1,
   "metadata": {},
   "outputs": [],
   "source": [
    "from scipy import stats"
   ]
  },
  {
   "cell_type": "markdown",
   "metadata": {},
   "source": [
    "1. Случайная непрерывная величина A имеет равномерное распределение на промежутке (200, 800]. Найдите ее среднее значение и дисперсию."
   ]
  },
  {
   "cell_type": "markdown",
   "metadata": {},
   "source": [
    "$$ M(X) = \\frac{a+b}{2} = \\frac{200+800}{2} = 500 $$\n",
    "\n",
    "$$ D(X) = \\frac{(b-a)^2}{12} = \\frac{(800-200)^2}{12} = 30000$$"
   ]
  },
  {
   "cell_type": "markdown",
   "metadata": {},
   "source": [
    "2. О случайной непрерывной равномерно распределенной величине B известно, что ее дисперсия равна 0.2.\n",
    "Можно ли найти правую границу величины B и ее среднее значение зная, что левая граница равна 0.5?\n",
    "Если да, найдите ее."
   ]
  },
  {
   "cell_type": "markdown",
   "metadata": {},
   "source": [
    "$ Выразим\\ b\\ из\\ формулы\\ D(X) = \\frac{(b-a)^2}{12}: $\n",
    "\n",
    "$$ (b-a)^2 = 12D(X) $$\n",
    "\n",
    "$$ b^2 - 2ab + a^2 = 12D(X) $$\n",
    "\n",
    "$$ b^2 - 2ab + a^2 - 12D(X) = 0 $$\n",
    "\n",
    "$$ b_{1, 2} = \\frac{2a \\pm \\sqrt{(-2a)^2-4*(a^2 - 12D(X))}}{2} $$\n",
    "\n",
    "$ Подставим\\ исходные\\ значения\\ величин: $\n",
    "\n",
    "$$ b_{1, 2} = \\frac{2*0.5 \\pm \\sqrt{4*0,25-4*(0.5^2 - 12*0.2)}}{2} = \\frac{1 \\pm \\sqrt{9.6}}{2} = \n",
    "\\begin{cases}\n",
    "  2.05 \\\\ -1.05\n",
    "\\end{cases}$$\n",
    "\n",
    "$ b_2 = -1.05\\ не\\ удовлетворяет\\ условию\\ задачи,\\ поэтому\\ правой\\ границей\\ является\\ b_1 = 2.05$\n",
    "\n",
    "$$  M(X) = \\frac{a+b}{2} = \\frac{0.5+2.05}{2} = 1.275 $$"
   ]
  },
  {
   "cell_type": "markdown",
   "metadata": {},
   "source": [
    "3. Непрерывная случайная величина X распределена нормально и задана плотностью распределения\n",
    "$ f(x) = (\\frac{1}{4 * \\sqrt{2\\pi}}) * e^{\\frac{-(x+2)^2}{32}}. $\n",
    "Найдите:<br>\n",
    "а) M(X)<br>\n",
    "б) D(X)<br>\n",
    "в) std(X) (среднее квадратичное отклонение)"
   ]
  },
  {
   "cell_type": "markdown",
   "metadata": {},
   "source": [
    "$ f(x) = (\\frac{1}{\\sigma * \\sqrt{2\\pi}}) * e^{\\frac{-(x-M(x))^2}{2\\sigma^2}}, => Отсюда\\ M(X) = -2, D(X) = 16, std(X) = 4$"
   ]
  },
  {
   "cell_type": "markdown",
   "metadata": {},
   "source": [
    "4. Рост взрослого населения города X имеет нормальное распределение.\n",
    "Причем, средний рост равен 174 см, а среднее квадратичное отклонение равно 8 см.\n",
    "Какова вероятность того, что случайным образом выбранный взрослый человек имеет рост:<br>\n",
    "а) больше 182 см<br>\n",
    "б) больше 190 см<br>\n",
    "в) от 166 см до 190 см<br>\n",
    "г) от 166 см до 182 см<br>\n",
    "д) от 158 см до 190 см<br>\n",
    "е) не выше 150 см или не ниже 190 см<br>\n",
    "ё) не выше 150 см или не ниже 198 см<br>\n",
    "ж) ниже 166 см."
   ]
  },
  {
   "cell_type": "code",
   "execution_count": 2,
   "metadata": {},
   "outputs": [],
   "source": [
    "avg = 174\n",
    "sd = 8"
   ]
  },
  {
   "cell_type": "markdown",
   "metadata": {},
   "source": [
    "$ a)\\ P(X>182) = 1 - P(X \\le 182) = 1 - P\\left(Z \\le \\frac{X-M(X)}{S(X)}\\right) = 1 - P\\left(Z \\le \\frac{182-174}{8}\\right) = 1 - P(Z \\le 1) = 1 - 0.8413 = 0.1587 $"
   ]
  },
  {
   "cell_type": "code",
   "execution_count": 3,
   "metadata": {},
   "outputs": [
    {
     "name": "stdout",
     "output_type": "stream",
     "text": [
      "Вероятность того, что случайным образом выбранный взрослый человек имеет рост больше 182 см равна 0.15865525393145707\n"
     ]
    }
   ],
   "source": [
    "x = 182\n",
    "print(f\"Вероятность того, что случайным образом выбранный взрослый человек имеет рост больше {x} см \"\n",
    "       f\"равна {1 - stats.norm.cdf((x-avg)/sd)}\")"
   ]
  },
  {
   "cell_type": "markdown",
   "metadata": {},
   "source": [
    "$ б)\\ P(X>190) = 1 - P(X \\le 190) = 1 - P\\left(Z \\le \\frac{190-174}{8}\\right) = 1 - P(Z \\le 2) = 1 - 0.9772 = 0.0228 $"
   ]
  },
  {
   "cell_type": "code",
   "execution_count": 4,
   "metadata": {},
   "outputs": [
    {
     "name": "stdout",
     "output_type": "stream",
     "text": [
      "Вероятность того, что случайным образом выбранный взрослый человек имеет рост больше 190 см равна 0.02275013194817921\n"
     ]
    }
   ],
   "source": [
    "x = 190\n",
    "print(f\"Вероятность того, что случайным образом выбранный взрослый человек имеет рост больше {x} см \"\n",
    "       f\"равна {1 - stats.norm.cdf((x-avg)/sd)}\")"
   ]
  },
  {
   "cell_type": "markdown",
   "metadata": {},
   "source": [
    "$ в)\\ P(166<X<190) = P\\left(Z \\le \\frac{190-174}{8}\\right) - P\\left(Z \\le \\frac{166-174}{8}\\right) = P(Z \\le 2) - P(Z \\le -1) = 0.9772 - 0.1587 = 0.8185 $"
   ]
  },
  {
   "cell_type": "code",
   "execution_count": 5,
   "metadata": {},
   "outputs": [
    {
     "name": "stdout",
     "output_type": "stream",
     "text": [
      "Вероятность того, что случайным образом выбранный взрослый человек имеет рост от 166 см до 190 см равна 0.8185946141203637\n"
     ]
    }
   ],
   "source": [
    "x_1, x_2 = 166, 190\n",
    "print(f\"Вероятность того, что случайным образом выбранный взрослый человек имеет рост от {x_1} см до {x_2} см \"\n",
    "       f\"равна {stats.norm.cdf((x_2-avg)/sd) - stats.norm.cdf((x_1-avg)/sd)}\")"
   ]
  },
  {
   "cell_type": "markdown",
   "metadata": {},
   "source": [
    "$ г)\\ P(166<X<182) = P\\left(Z \\le \\frac{182-174}{8}\\right) - P\\left(Z \\le \\frac{166-174}{8}\\right) = P(Z \\le 1) - P(Z \\le -1) = 0.8413 - 0.1587 = 0.6826 $"
   ]
  },
  {
   "cell_type": "code",
   "execution_count": 6,
   "metadata": {},
   "outputs": [
    {
     "name": "stdout",
     "output_type": "stream",
     "text": [
      "Вероятность того, что случайным образом выбранный взрослый человек имеет рост от 166 см до 182 см равна 0.6826894921370859\n"
     ]
    }
   ],
   "source": [
    "x_1, x_2 = 166, 182\n",
    "print(f\"Вероятность того, что случайным образом выбранный взрослый человек имеет рост от {x_1} см до {x_2} см \"\n",
    "       f\"равна {stats.norm.cdf((x_2-avg)/sd) - stats.norm.cdf((x_1-avg)/sd)}\")"
   ]
  },
  {
   "cell_type": "markdown",
   "metadata": {},
   "source": [
    "$ д)\\ P(158<X<190) = P\\left(Z \\le \\frac{190-174}{8}\\right) - P\\left(Z \\le \\frac{158-174}{8}\\right) = P(Z \\le 2) - P(Z \\le -2) = 0.9772 - 0.0228 = 0.9544 $"
   ]
  },
  {
   "cell_type": "code",
   "execution_count": 7,
   "metadata": {},
   "outputs": [
    {
     "name": "stdout",
     "output_type": "stream",
     "text": [
      "Вероятность того, что случайным образом выбранный взрослый человек имеет рост от 158 см до 190 см равна 0.9544997361036416\n"
     ]
    }
   ],
   "source": [
    "x_1, x_2 = 158, 190\n",
    "print(f\"Вероятность того, что случайным образом выбранный взрослый человек имеет рост от {x_1} см до {x_2} см \"\n",
    "       f\"равна {stats.norm.cdf((x_2-avg)/sd) - stats.norm.cdf((x_1-avg)/sd)}\")"
   ]
  },
  {
   "cell_type": "markdown",
   "metadata": {},
   "source": [
    "$ е)\\ P(X<150, X>190) = P\\left(Z \\le \\frac{150-174}{8}\\right) + 1 - P\\left(Z \\le \\frac{190-174}{8}\\right) = P(Z \\le -3) + 1 -P(Z \\le 2) = 0.0014 + 1 - 0.9772 = 0.0242 $"
   ]
  },
  {
   "cell_type": "code",
   "execution_count": 8,
   "metadata": {},
   "outputs": [
    {
     "name": "stdout",
     "output_type": "stream",
     "text": [
      "Вероятность того, что случайным образом выбранный взрослый человек имеет рост не выше 150 см или не ниже 190 см равна 0.0241000299798092\n"
     ]
    }
   ],
   "source": [
    "x_1, x_2 = 150, 190\n",
    "print(f\"Вероятность того, что случайным образом выбранный взрослый человек имеет рост не выше {x_1} см или не ниже {x_2} см \"\n",
    "       f\"равна {stats.norm.cdf((x_1-avg)/sd) + 1- stats.norm.cdf((x_2-avg)/sd)}\")"
   ]
  },
  {
   "cell_type": "markdown",
   "metadata": {},
   "source": [
    "$ ё)\\ P(X<150, X>198) = P\\left(Z \\le \\frac{150-174}{8}\\right) + 1 - P\\left(Z \\le \\frac{198-174}{8}\\right) = P(Z \\le -3) + 1 -P(Z \\le 3) = 0.0014 + 1 - 0.9987 = 0.0027 $"
   ]
  },
  {
   "cell_type": "code",
   "execution_count": 9,
   "metadata": {},
   "outputs": [
    {
     "name": "stdout",
     "output_type": "stream",
     "text": [
      "Вероятность того, что случайным образом выбранный взрослый человек имеет рост не выше 150 см или не ниже 198 см равна 0.002699796063260096\n"
     ]
    }
   ],
   "source": [
    "x_1, x_2 = 150, 198\n",
    "print(f\"Вероятность того, что случайным образом выбранный взрослый человек имеет рост не выше {x_1} см или не ниже {x_2} см \"\n",
    "       f\"равна {stats.norm.cdf((x_1-avg)/sd) + 1- stats.norm.cdf((x_2-avg)/sd)}\")"
   ]
  },
  {
   "cell_type": "markdown",
   "metadata": {},
   "source": [
    "$ ж)\\ P(X<166) =  P\\left(Z \\le \\frac{166-174}{8}\\right) = 0.1587 $"
   ]
  },
  {
   "cell_type": "code",
   "execution_count": 10,
   "metadata": {},
   "outputs": [
    {
     "name": "stdout",
     "output_type": "stream",
     "text": [
      "Вероятность того, что случайным образом выбранный взрослый человек имеет рост ниже 166 см равна 0.15865525393145707\n"
     ]
    }
   ],
   "source": [
    "x = 166\n",
    "print(f\"Вероятность того, что случайным образом выбранный взрослый человек имеет рост ниже {x} см \"\n",
    "       f\"равна {stats.norm.cdf((x-avg)/sd)}\")"
   ]
  },
  {
   "cell_type": "markdown",
   "metadata": {},
   "source": [
    "5. На сколько сигм (средних квадратичных отклонений) отклоняется рост человека, равный 190 см, от\n",
    "математического ожидания роста в популяции, в которой M(X) = 178 см и D(X) = 25 кв.см?"
   ]
  },
  {
   "cell_type": "markdown",
   "metadata": {},
   "source": [
    "$$ Z = \\frac{X-M(X)}{S(X)} = \\frac{X-M(X)}{\\sqrt{D(X)}} = \\frac{190-178}{\\sqrt{25}} = 2.4$$"
   ]
  }
 ],
 "metadata": {
  "kernelspec": {
   "display_name": "Python 3",
   "language": "python",
   "name": "python3"
  },
  "language_info": {
   "codemirror_mode": {
    "name": "ipython",
    "version": 3
   },
   "file_extension": ".py",
   "mimetype": "text/x-python",
   "name": "python",
   "nbconvert_exporter": "python",
   "pygments_lexer": "ipython3",
   "version": "3.7.4"
  }
 },
 "nbformat": 4,
 "nbformat_minor": 2
}
