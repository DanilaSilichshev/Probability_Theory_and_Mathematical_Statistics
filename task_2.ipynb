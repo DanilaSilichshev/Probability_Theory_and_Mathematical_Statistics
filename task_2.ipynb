{
 "cells": [
  {
   "cell_type": "markdown",
   "metadata": {},
   "source": [
    "<h1 align=\"center\">Урок 2. Дискретные случайные величины. Закон распределения вероятностей. Биномиальный закон распределения. Распределение Пуассона</h1>"
   ]
  },
  {
   "cell_type": "code",
   "execution_count": 1,
   "metadata": {},
   "outputs": [],
   "source": [
    "import numpy as np\n",
    "from math import factorial, pow"
   ]
  },
  {
   "cell_type": "code",
   "execution_count": 2,
   "metadata": {},
   "outputs": [],
   "source": [
    "def combinations(n, k):\n",
    "    return int(factorial(n) / (factorial(k) * factorial(n - k)))"
   ]
  },
  {
   "cell_type": "markdown",
   "metadata": {},
   "source": [
    "1. Вероятность того, что стрелок попадет в мишень, выстрелив один раз, равна 0.8. Стрелок выстрелил 100 раз. Найдите вероятность того, что стрелок попадет в цель ровно 85 раз."
   ]
  },
  {
   "cell_type": "markdown",
   "metadata": {},
   "source": [
    "$ Формула\\ Бернулли: $\n",
    "\n",
    "$$ P_n(X=k)=C^k_np^kq^{n-k}$$\n",
    "\n",
    "$ p = 0.8 $\n",
    "\n",
    "$ q=1-p=0.2 $ \n",
    "\n",
    "$ k = 85 $ \n",
    "\n",
    "$n = 100 $"
   ]
  },
  {
   "cell_type": "code",
   "execution_count": 3,
   "metadata": {},
   "outputs": [
    {
     "name": "stdout",
     "output_type": "stream",
     "text": [
      "Вероятность того, что стрелок попадет в цель ровно 85 раз = 0.048061793700746556\n"
     ]
    }
   ],
   "source": [
    "p, q = 0.8, 0.2\n",
    "k, n = 85, 100\n",
    "Pn = combinations(n, k)*pow(p, k)*pow(q, n-k)\n",
    "print(f\"Вероятность того, что стрелок попадет в цель ровно 85 раз = {Pn}\")"
   ]
  },
  {
   "cell_type": "markdown",
   "metadata": {},
   "source": [
    "2. Вероятность того, что лампочка перегорит в течение первого дня эксплуатации, равна 0.0004. В жилом комплексе после ремонта в один день включили 5000 новых лампочек. Какова вероятность, что ни одна из них не перегорит в первый день? Какова вероятность, что перегорят ровно две?"
   ]
  },
  {
   "cell_type": "markdown",
   "metadata": {},
   "source": [
    "$ Формула\\ Пуассона: $\n",
    "\n",
    "$$ P_m \\approx \\frac{\\lambda^m}{m!}e^{-\\lambda}$$\n",
    "\n",
    "$ \\lambda = np = 5000*0.0004 = 2 \\\\ $"
   ]
  },
  {
   "cell_type": "code",
   "execution_count": 4,
   "metadata": {},
   "outputs": [],
   "source": [
    "def get_Pm(_lambda, m):\n",
    "    return (pow(_lambda, m) / factorial(m)) * np.exp(-_lambda)"
   ]
  },
  {
   "cell_type": "code",
   "execution_count": 5,
   "metadata": {
    "scrolled": true
   },
   "outputs": [
    {
     "name": "stdout",
     "output_type": "stream",
     "text": [
      "Вероятность того, что ни одна из них не перегорит в первый день = 0.1353352832366127\n"
     ]
    }
   ],
   "source": [
    "print(f\"Вероятность того, что ни одна из них не перегорит в первый день = {get_Pm(2, 0)}\")"
   ]
  },
  {
   "cell_type": "code",
   "execution_count": 6,
   "metadata": {},
   "outputs": [
    {
     "name": "stdout",
     "output_type": "stream",
     "text": [
      "Вероятность того, что перегорят ровно две = 0.2706705664732254\n"
     ]
    }
   ],
   "source": [
    "print(f\"Вероятность того, что перегорят ровно две = {get_Pm(2, 2)}\")"
   ]
  },
  {
   "cell_type": "markdown",
   "metadata": {},
   "source": [
    "3. Монету подбросили 144 раза. Какова вероятность, что орел выпадет ровно 70 раз?"
   ]
  },
  {
   "cell_type": "code",
   "execution_count": 7,
   "metadata": {},
   "outputs": [
    {
     "name": "stdout",
     "output_type": "stream",
     "text": [
      "Вероятность того, что орел выпадет ровно 70 раз, если монету подбросили 144 раза = 0.06281178035144776\n"
     ]
    }
   ],
   "source": [
    "p = q = 0.5\n",
    "k, n = 70, 144\n",
    "Pn = combinations(n, k)*pow(p, k)*pow(q, n-k)\n",
    "print(f\"Вероятность того, что орел выпадет ровно 70 раз, если монету подбросили 144 раза = {Pn}\")"
   ]
  },
  {
   "cell_type": "markdown",
   "metadata": {},
   "source": [
    "4. В первом ящике находится 10 мячей, из которых 7 - белые. Во втором ящике - 11 мячей, из которых 9 белых. Из каждого ящика вытаскивают случайным образом по два мяча. Какова вероятность того, что все мячи белые? Какова вероятность того, что ровно два мяча белые? Какова вероятность того, что хотя бы один мяч белый?"
   ]
  },
  {
   "cell_type": "markdown",
   "metadata": {},
   "source": [
    "События \"Вытаскивание шаров из ящика\" являются зависимыми."
   ]
  },
  {
   "cell_type": "markdown",
   "metadata": {},
   "source": [
    "$ Вероятность\\ того,\\ что\\ все\\ мячи\\ белые: $ \n",
    "\n",
    "$$ P=\\frac{7}{10}*\\frac{6}{9}*\\frac{9}{11}*\\frac{8}{10} \\approx 0.30545$$"
   ]
  },
  {
   "cell_type": "markdown",
   "metadata": {},
   "source": [
    "$ Вероятность\\ того,\\ что\\ из\\ первого\\ ящика\\ вытащили\\ два\\ белых\\ мяча\\ и\\ ни\\ одного\\ из\\ второго: $ \n",
    "\n",
    "$$ P_1=\\frac{7}{10}*\\frac{6}{9}*\\frac{2}{11}*\\frac{1}{10} \\approx 0.008485$$\n",
    "\n",
    "$ Вероятность\\ того,\\ что\\ из\\ второго\\ ящика\\ вытащили\\ два\\ белых\\ мяча\\ и\\ ни\\ одного\\ из\\ первого: $ \n",
    "\n",
    "$$ P_2=\\frac{3}{10}*\\frac{2}{9}*\\frac{9}{11}*\\frac{8}{10} \\approx 0.043637$$\n",
    "\n",
    "$ Вероятность\\ того,\\ что\\ из\\ каждого\\ ящика\\ вытащили\\ по\\ одному\\ белому\\ мячу: $ \n",
    "\n",
    "$$ P_3=(\\frac{7}{10}*\\frac{3}{9}+\\frac{3}{10}*\\frac{7}{9})*(\\frac{9}{11}*\\frac{2}{10}+\\frac{2}{11}*\\frac{9}{10}) \\approx 0.15273$$\n",
    "\n",
    "$ Вероятность\\ того,\\ что\\ ровно\\ два\\ мяча\\ белые: $ \n",
    "\n",
    "$$ P_{общ} = P_1 + P_2 + P_3 = 0.008485 + 0.043637 + 0.15273 \\approx 0.204852 $$"
   ]
  },
  {
   "cell_type": "markdown",
   "metadata": {},
   "source": [
    "$ Вероятность\\ того,\\ что\\ хотя\\ бы\\ один\\ мяч\\ белый = 1-(Вероятность\\ того,\\ что\\ все\\ мячи\\ не\\ белые):$ \n",
    "\n",
    "$$ P = 1 - \\frac{3}{10}*\\frac{2}{9}*\\frac{2}{11}*\\frac{1}{10} \\approx 0.99879$$"
   ]
  }
 ],
 "metadata": {
  "kernelspec": {
   "display_name": "Python 3",
   "language": "python",
   "name": "python3"
  },
  "language_info": {
   "codemirror_mode": {
    "name": "ipython",
    "version": 3
   },
   "file_extension": ".py",
   "mimetype": "text/x-python",
   "name": "python",
   "nbconvert_exporter": "python",
   "pygments_lexer": "ipython3",
   "version": "3.7.4"
  }
 },
 "nbformat": 4,
 "nbformat_minor": 2
}
