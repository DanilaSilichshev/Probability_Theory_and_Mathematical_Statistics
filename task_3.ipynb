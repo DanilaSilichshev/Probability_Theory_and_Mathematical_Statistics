{
 "cells": [
  {
   "cell_type": "markdown",
   "metadata": {},
   "source": [
    "<h1 align=\"center\">Урок 3. Описательная статистика. Качественные и количественные характеристики популяции. Графическое представление данных</h1>"
   ]
  },
  {
   "cell_type": "code",
   "execution_count": 1,
   "metadata": {},
   "outputs": [],
   "source": [
    "import numpy as np\n",
    "from math import factorial"
   ]
  },
  {
   "cell_type": "code",
   "execution_count": 2,
   "metadata": {},
   "outputs": [],
   "source": [
    "def combinations(n, k):\n",
    "    return int(factorial(n) / (factorial(k) * factorial(n - k)))"
   ]
  },
  {
   "cell_type": "markdown",
   "metadata": {},
   "source": [
    "1. Даны значения зарплат из выборки выпускников: 100, 80, 75, 77, 89, 33, 45, 25, 65, 17, 30, 24, 57, 55, 70, 75, 65, 84, 90, 150. Посчитать (желательно без использования статистических методов наподобие std, var, mean) среднее арифметическое, среднее квадратичное отклонение, смещенную и несмещенную оценки дисперсий для данной выборки."
   ]
  },
  {
   "cell_type": "markdown",
   "metadata": {},
   "source": [
    "$$ \\overline{x} = \\frac{\\displaystyle\\sum_{i=1}^{n} x_i}{n}=\\frac{100+80+75+77+89+33+45+25+65+17+30+24+57+55+70+75+65+84+90+ 150}{20}=\\frac{1306}{20}=65.3$$\n",
    "\n",
    "$ \\displaystyle\\sum_{i=1}^{n}(x_i-\\overline{x})^2=(65.3-100)^2+(65.3-80)^2+(65.3-75)^2+(65.3-77)^2+(65.3-89)^2+(65.3-33)^2+(65.3-45)^2+(65.3-25)^2+(65.3-65)^2+(65.3-17)^2+(65.3-30)^2+(65.3-24)^2+(65.3-57)^2+(65.3-55)^2+(65.3-70)^2+(65.3-75)^2+(65.3-65)^2+(65.3-84)^2+(65.3-90)^2+(65.3-150)^2 = 1204.09+216.09+94.09+136.89+561.69+1043.29+412.09+1624.09+0.09+2332.89+1246.09+1705.69+68.89+106.09+22.09+94.09+0.09+349.69+610.09+7174.09=19002.2$\n",
    "\n",
    "$$ Размер\\ выборки\\ N < 100,\\ поэтому\\ используем\\ несмещённую\\ оценку: S=\\sqrt\\frac{\\displaystyle\\sum_{i=1}^{n}(x_i-\\overline{x})^2}{n-1}=\\sqrt \\frac{19002.2}{19} \\approx 31.624458$$\n",
    "\n",
    "$$ S^2=\\frac{\\displaystyle\\sum_{i=1}^{n}(x_i-\\overline{x})^2}{n}=\\frac{19002.2}{20} = 950.11 $$\n",
    "\n",
    "$$ S^2=\\frac{\\displaystyle\\sum_{i=1}^{n}(x_i-\\overline{x})^2}{n-1}=\\frac{19002.2}{19} \\approx 1000.1158 $$"
   ]
  },
  {
   "cell_type": "code",
   "execution_count": 3,
   "metadata": {},
   "outputs": [],
   "source": [
    "salaries = np.array([100, 80, 75, 77, 89, 33, 45, 25, 65, 17, 30, 24, 57, 55, 70, 75, 65, 84, 90, 150])"
   ]
  },
  {
   "cell_type": "code",
   "execution_count": 4,
   "metadata": {
    "scrolled": true
   },
   "outputs": [
    {
     "name": "stdout",
     "output_type": "stream",
     "text": [
      "Среднее арифметическое: 65.3\n"
     ]
    }
   ],
   "source": [
    "print(f\"Среднее арифметическое: {np.mean(salaries)}\")"
   ]
  },
  {
   "cell_type": "code",
   "execution_count": 5,
   "metadata": {},
   "outputs": [
    {
     "name": "stdout",
     "output_type": "stream",
     "text": [
      "Среднее квадратичное отклонение: 31.624607341019814\n"
     ]
    }
   ],
   "source": [
    "print(f\"Среднее квадратичное отклонение: {np.std(salaries, ddof=1)}\")"
   ]
  },
  {
   "cell_type": "code",
   "execution_count": 6,
   "metadata": {},
   "outputs": [
    {
     "name": "stdout",
     "output_type": "stream",
     "text": [
      "Смещённая оценка дисперсии: 950.11\n"
     ]
    }
   ],
   "source": [
    "print(f\"Смещённая оценка дисперсии: {np.var(salaries)}\")"
   ]
  },
  {
   "cell_type": "code",
   "execution_count": 7,
   "metadata": {},
   "outputs": [
    {
     "name": "stdout",
     "output_type": "stream",
     "text": [
      "Несмещённая оценка дисперсии: 1000.1157894736842\n"
     ]
    }
   ],
   "source": [
    "print(f\"Несмещённая оценка дисперсии: {np.var(salaries, ddof=1)}\")"
   ]
  },
  {
   "cell_type": "markdown",
   "metadata": {},
   "source": [
    "2. В первом ящике находится 8 мячей, из которых 5 - белые. Во втором ящике - 12 мячей, из которых 5 белых. Из первого ящика вытаскивают случайным образом два мяча, из второго - 4. Какова вероятность того, что 3 мяча белые?"
   ]
  },
  {
   "cell_type": "code",
   "execution_count": 8,
   "metadata": {},
   "outputs": [
    {
     "name": "stdout",
     "output_type": "stream",
     "text": [
      "Вероятность, что из первого ящика вытащили два белых мяча и один из второго: 0.12626262626262627\n"
     ]
    }
   ],
   "source": [
    "P1 = combinations(5, 2) / combinations(8, 2) * combinations(5, 1) * combinations(7, 3) / combinations(12, 4)\n",
    "print(f\"Вероятность, что из первого ящика вытащили два белых мяча и один из второго: {P1}\")"
   ]
  },
  {
   "cell_type": "code",
   "execution_count": 9,
   "metadata": {},
   "outputs": [
    {
     "name": "stdout",
     "output_type": "stream",
     "text": [
      "Вероятность, что из первого ящика вытащили только один белый мяч и два из второго: 0.22727272727272724\n"
     ]
    }
   ],
   "source": [
    "P2 = combinations(5, 1) * combinations(3, 1) / combinations(8, 2) * combinations(5, 2) * combinations(7, 2) /\\\n",
    "combinations(12, 4)\n",
    "print(f\"Вероятность, что из первого ящика вытащили только один белый мяч и два из второго: {P2}\")"
   ]
  },
  {
   "cell_type": "code",
   "execution_count": 10,
   "metadata": {},
   "outputs": [
    {
     "name": "stdout",
     "output_type": "stream",
     "text": [
      "Вероятность, что из первого ящика вытащили ни одного белого мяча и три из второго: 0.015151515151515152\n"
     ]
    }
   ],
   "source": [
    "P3 = combinations(3, 2) / combinations(8, 2) * combinations(5, 3) * combinations(7, 1) / combinations(12, 4)\n",
    "print(f\"Вероятность, что из первого ящика вытащили ни одного белого мяча и три из второго: {P3}\")"
   ]
  },
  {
   "cell_type": "code",
   "execution_count": 11,
   "metadata": {},
   "outputs": [
    {
     "name": "stdout",
     "output_type": "stream",
     "text": [
      "Вероятность того, что 3 мяча белые: 0.3686868686868686\n"
     ]
    }
   ],
   "source": [
    "P = P1 + P2 + P3\n",
    "print(f\"Вероятность того, что 3 мяча белые: {P}\")"
   ]
  },
  {
   "cell_type": "markdown",
   "metadata": {},
   "source": [
    "3. На соревновании по биатлону один из трех спортсменов стреляет и попадает в мишень. Вероятность попадания для первого спортсмена равна 0.9, для второго — 0.8, для третьего — 0.6. Найти вероятность того, что выстрел произведен: a). первым спортсменом б). вторым спортсменом в). третьим спортсменом."
   ]
  },
  {
   "cell_type": "markdown",
   "metadata": {},
   "source": [
    "$$ P = \\frac{число\\ благоприятствующих\\ исходов}{общее\\ количество\\ исходов}$$\n",
    "\n",
    "$$ P_1 = \\frac{\\frac13*0.9}{\\frac13*0.9+\\frac13*0.8+\\frac13*0.6} =\\frac{\\frac13*0.9}{\\frac13*(0.9+0.8+0.6)}=\\frac{0.9}{2.3} \\approx 0.3913 $$\n",
    "\n",
    "$$ P_2 = \\frac{0.8}{2.3} \\approx 0.3478 $$\n",
    "\n",
    "$$ P_3 = \\frac{0.6}{2.3} \\approx 0.2609 $$"
   ]
  },
  {
   "cell_type": "markdown",
   "metadata": {},
   "source": [
    "4. В университет на факультеты A и B поступило равное количество студентов, а на факультет C студентов поступило столько же, сколько на A и B вместе. Вероятность того, что студент факультета A сдаст первую сессию, равна 0.8. Для студента факультета B эта вероятность равна 0.7, а для студента факультета C - 0.9. Студент сдал первую сессию. Какова вероятность, что он учится: a). на факультете A б). на факультете B в). на факультете C?"
   ]
  },
  {
   "cell_type": "markdown",
   "metadata": {},
   "source": [
    "$$ P_A = \\frac{\\frac14*0.8}{\\frac14*0.8+\\frac14*0.7+\\frac12*0.9} =\\frac{\\frac14*0.8}{\\frac14*(0.8+0.7+2*0.9)}=\\frac{0.8}{3.3} \\approx 0.2424 $$\n",
    "\n",
    "$$ P_B = \\frac{0.7}{3.3} \\approx 0.2121 $$\n",
    "\n",
    "$$ P_C = \\frac{\\frac12*0.9}{\\frac14*0.8+\\frac14*0.7+\\frac12*0.9} =\\frac{\\frac12*0.9}{\\frac12*(0.5*0.8+0.5*0.7+0.9)}=\\frac{0.9}{1.65} \\approx 0.5455 $$"
   ]
  },
  {
   "cell_type": "markdown",
   "metadata": {},
   "source": [
    "5. Устройство состоит из трех деталей. Для первой детали вероятность выйти из строя в первый месяц равна 0.1, для второй - 0.2, для третьей - 0.25. Какова вероятность того, что в первый месяц выйдут из строя: а). все детали б). только две детали в). хотя бы одна деталь г). от одной до двух деталей?"
   ]
  },
  {
   "cell_type": "markdown",
   "metadata": {},
   "source": [
    "$ P_А = 0.1*0.2*0.25 = 0.005$\n",
    "\n",
    "$ P_Б = 0.1*0.2*(1-0.25) + 0.1*(1-0.2)*0.25+(1-0.1)*0.2*0.25=0.015+0.02+0.045=0.08$\n",
    "\n",
    "$ P_В = 1-((1-0.1)*(1-0.2)*(1-0.25)) = 0.46$\n",
    "\n",
    "$ P_Г = 0.1*(1-0.2)*(1-0.25)+(1-0.1)*0.2*(1-0.25)+(1-0.1)*(1-0.2)*0.25+P_Б = 0.375+0.08=0.455$"
   ]
  }
 ],
 "metadata": {
  "kernelspec": {
   "display_name": "Python 3",
   "language": "python",
   "name": "python3"
  },
  "language_info": {
   "codemirror_mode": {
    "name": "ipython",
    "version": 3
   },
   "file_extension": ".py",
   "mimetype": "text/x-python",
   "name": "python",
   "nbconvert_exporter": "python",
   "pygments_lexer": "ipython3",
   "version": "3.7.4"
  }
 },
 "nbformat": 4,
 "nbformat_minor": 2
}
